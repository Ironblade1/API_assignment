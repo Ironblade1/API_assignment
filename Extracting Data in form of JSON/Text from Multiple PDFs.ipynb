{
  "nbformat": 4,
  "nbformat_minor": 0,
  "metadata": {
    "colab": {
      "provenance": [],
      "authorship_tag": "ABX9TyNOa0luYk/9MEPII7aCh8IO",
      "include_colab_link": true
    },
    "kernelspec": {
      "name": "python3",
      "display_name": "Python 3"
    },
    "language_info": {
      "name": "python"
    }
  },
  "cells": [
    {
      "cell_type": "markdown",
      "metadata": {
        "id": "view-in-github",
        "colab_type": "text"
      },
      "source": [
        "<a href=\"https://colab.research.google.com/github/Ironblade1/API_assignment/blob/main/Extracting%20Data%20in%20form%20of%20JSON/Text%20from%20Multiple%20PDFs.ipynb\" target=\"_parent\"><img src=\"https://colab.research.google.com/assets/colab-badge.svg\" alt=\"Open In Colab\"/></a>"
      ]
    },
    {
      "cell_type": "markdown",
      "source": [
        "Installing libraries"
      ],
      "metadata": {
        "id": "KTCu6MBk9TyF"
      }
    },
    {
      "cell_type": "code",
      "execution_count": 4,
      "metadata": {
        "colab": {
          "base_uri": "https://localhost:8080/"
        },
        "collapsed": true,
        "id": "PiZobNMZ18Ki",
        "outputId": "46fc3632-2fdd-4315-f5ed-9c8c7f0d8e47"
      },
      "outputs": [
        {
          "output_type": "stream",
          "name": "stdout",
          "text": [
            "Collecting PyPDF2\n",
            "  Downloading pypdf2-3.0.1-py3-none-any.whl.metadata (6.8 kB)\n",
            "Downloading pypdf2-3.0.1-py3-none-any.whl (232 kB)\n",
            "\u001b[?25l   \u001b[90m━━━━━━━━━━━━━━━━━━━━━━━━━━━━━━━━━━━━━━━━\u001b[0m \u001b[32m0.0/232.6 kB\u001b[0m \u001b[31m?\u001b[0m eta \u001b[36m-:--:--\u001b[0m\r\u001b[2K   \u001b[90m━━━━━━━━━━━━━━━━━━━━━━━━━━━━━━━━━━━━━━━━\u001b[0m \u001b[32m232.6/232.6 kB\u001b[0m \u001b[31m6.9 MB/s\u001b[0m eta \u001b[36m0:00:00\u001b[0m\n",
            "\u001b[?25hInstalling collected packages: PyPDF2\n",
            "Successfully installed PyPDF2-3.0.1\n"
          ]
        }
      ],
      "source": [
        "!pip install PyPDF2"
      ]
    },
    {
      "cell_type": "code",
      "source": [
        "!pip install openai==0.28"
      ],
      "metadata": {
        "colab": {
          "base_uri": "https://localhost:8080/"
        },
        "collapsed": true,
        "id": "mqmowWLf1_Xq",
        "outputId": "cf7064e0-68b9-4fce-96d2-c2ab1d5ae829"
      },
      "execution_count": 5,
      "outputs": [
        {
          "output_type": "stream",
          "name": "stdout",
          "text": [
            "Collecting openai==0.28\n",
            "  Downloading openai-0.28.0-py3-none-any.whl.metadata (13 kB)\n",
            "Requirement already satisfied: requests>=2.20 in /usr/local/lib/python3.10/dist-packages (from openai==0.28) (2.31.0)\n",
            "Requirement already satisfied: tqdm in /usr/local/lib/python3.10/dist-packages (from openai==0.28) (4.66.4)\n",
            "Requirement already satisfied: aiohttp in /usr/local/lib/python3.10/dist-packages (from openai==0.28) (3.9.5)\n",
            "Requirement already satisfied: charset-normalizer<4,>=2 in /usr/local/lib/python3.10/dist-packages (from requests>=2.20->openai==0.28) (3.3.2)\n",
            "Requirement already satisfied: idna<4,>=2.5 in /usr/local/lib/python3.10/dist-packages (from requests>=2.20->openai==0.28) (3.7)\n",
            "Requirement already satisfied: urllib3<3,>=1.21.1 in /usr/local/lib/python3.10/dist-packages (from requests>=2.20->openai==0.28) (2.0.7)\n",
            "Requirement already satisfied: certifi>=2017.4.17 in /usr/local/lib/python3.10/dist-packages (from requests>=2.20->openai==0.28) (2024.7.4)\n",
            "Requirement already satisfied: aiosignal>=1.1.2 in /usr/local/lib/python3.10/dist-packages (from aiohttp->openai==0.28) (1.3.1)\n",
            "Requirement already satisfied: attrs>=17.3.0 in /usr/local/lib/python3.10/dist-packages (from aiohttp->openai==0.28) (23.2.0)\n",
            "Requirement already satisfied: frozenlist>=1.1.1 in /usr/local/lib/python3.10/dist-packages (from aiohttp->openai==0.28) (1.4.1)\n",
            "Requirement already satisfied: multidict<7.0,>=4.5 in /usr/local/lib/python3.10/dist-packages (from aiohttp->openai==0.28) (6.0.5)\n",
            "Requirement already satisfied: yarl<2.0,>=1.0 in /usr/local/lib/python3.10/dist-packages (from aiohttp->openai==0.28) (1.9.4)\n",
            "Requirement already satisfied: async-timeout<5.0,>=4.0 in /usr/local/lib/python3.10/dist-packages (from aiohttp->openai==0.28) (4.0.3)\n",
            "Downloading openai-0.28.0-py3-none-any.whl (76 kB)\n",
            "\u001b[?25l   \u001b[90m━━━━━━━━━━━━━━━━━━━━━━━━━━━━━━━━━━━━━━━━\u001b[0m \u001b[32m0.0/76.5 kB\u001b[0m \u001b[31m?\u001b[0m eta \u001b[36m-:--:--\u001b[0m\r\u001b[2K   \u001b[90m━━━━━━━━━━━━━━━━━━━━━━━━━━━━━━━━━━━━━━━━\u001b[0m \u001b[32m76.5/76.5 kB\u001b[0m \u001b[31m3.6 MB/s\u001b[0m eta \u001b[36m0:00:00\u001b[0m\n",
            "\u001b[?25hInstalling collected packages: openai\n",
            "Successfully installed openai-0.28.0\n"
          ]
        }
      ]
    },
    {
      "cell_type": "code",
      "source": [
        "from google.colab import userdata    # getting API key\n",
        "key = userdata.get('openAi_API_key')"
      ],
      "metadata": {
        "id": "uNgDFSOy2WpW"
      },
      "execution_count": 6,
      "outputs": []
    },
    {
      "cell_type": "code",
      "source": [
        "import base64\n",
        "import requests\n",
        "\n",
        "# OpenAI API Key\n",
        "api_key = key\n",
        "\n",
        "# Function to encode the image\n",
        "def encode_image(image_path):\n",
        "  with open(image_path, \"rb\") as image_file:\n",
        "    return base64.b64encode(image_file.read()).decode('utf-8')\n",
        "\n",
        "# Function to extract the data from each Image\n",
        "def extract_data_from_eachImage(image_path):\n",
        "\n",
        "  # image_path = \"/content/Capture.PNG\"\n",
        "\n",
        "  # Getting the base64 string\n",
        "  base64_image = encode_image(image_path)\n",
        "\n",
        "  headers = {\n",
        "    \"Content-Type\": \"application/json\",\n",
        "    \"Authorization\": f\"Bearer {api_key}\"\n",
        "  }\n",
        "\n",
        "  # change the payload as required\n",
        "  payload = {\n",
        "    \"model\": \"gpt-4o\",\n",
        "    \"messages\": [\n",
        "      {\n",
        "        \"role\": \"user\",\n",
        "        \"content\": [\n",
        "          {\n",
        "            \"type\": \"text\",\n",
        "            \"text\": \"Extract the entire data from the image in json format , do not miss any of line or table, extract all data from top to bottom of the image \"\n",
        "          },\n",
        "          {\n",
        "            \"type\": \"image_url\",\n",
        "            \"image_url\": {\n",
        "              \"url\": f\"data:image/jpeg;base64,{base64_image}\",\n",
        "              \"detail\": \"high\"\n",
        "            }\n",
        "          }\n",
        "        ]\n",
        "      }\n",
        "    ]\n",
        "  }\n",
        "\n",
        "  response = requests.post(\"https://api.openai.com/v1/chat/completions\", headers=headers, json=payload)\n",
        "\n",
        "  # print(response.json())\n",
        "  # print(response.json()['choices'][0]['message']['content'])\n",
        "  return response.json()['choices'][0]['message']['content']\n"
      ],
      "metadata": {
        "id": "rliGkWoC2C4M"
      },
      "execution_count": 7,
      "outputs": []
    },
    {
      "cell_type": "code",
      "source": [
        "!apt-get install -y poppler-utils"
      ],
      "metadata": {
        "colab": {
          "base_uri": "https://localhost:8080/"
        },
        "collapsed": true,
        "id": "UH_iH1gt2khl",
        "outputId": "8509f04e-ab00-41d2-d888-35521b9c31db"
      },
      "execution_count": 8,
      "outputs": [
        {
          "output_type": "stream",
          "name": "stdout",
          "text": [
            "Reading package lists... Done\n",
            "Building dependency tree... Done\n",
            "Reading state information... Done\n",
            "The following NEW packages will be installed:\n",
            "  poppler-utils\n",
            "0 upgraded, 1 newly installed, 0 to remove and 45 not upgraded.\n",
            "Need to get 186 kB of archives.\n",
            "After this operation, 696 kB of additional disk space will be used.\n",
            "Get:1 http://archive.ubuntu.com/ubuntu jammy-updates/main amd64 poppler-utils amd64 22.02.0-2ubuntu0.5 [186 kB]\n",
            "Fetched 186 kB in 1s (312 kB/s)\n",
            "Selecting previously unselected package poppler-utils.\n",
            "(Reading database ... 123588 files and directories currently installed.)\n",
            "Preparing to unpack .../poppler-utils_22.02.0-2ubuntu0.5_amd64.deb ...\n",
            "Unpacking poppler-utils (22.02.0-2ubuntu0.5) ...\n",
            "Setting up poppler-utils (22.02.0-2ubuntu0.5) ...\n",
            "Processing triggers for man-db (2.10.2-1) ...\n"
          ]
        }
      ]
    },
    {
      "cell_type": "code",
      "source": [
        "!pip install pdf2image"
      ],
      "metadata": {
        "colab": {
          "base_uri": "https://localhost:8080/"
        },
        "collapsed": true,
        "id": "4n9gaHgZ2qhC",
        "outputId": "7970a022-cfe4-40bd-dc8c-088fbc94f763"
      },
      "execution_count": 9,
      "outputs": [
        {
          "output_type": "stream",
          "name": "stdout",
          "text": [
            "Collecting pdf2image\n",
            "  Downloading pdf2image-1.17.0-py3-none-any.whl.metadata (6.2 kB)\n",
            "Requirement already satisfied: pillow in /usr/local/lib/python3.10/dist-packages (from pdf2image) (9.4.0)\n",
            "Downloading pdf2image-1.17.0-py3-none-any.whl (11 kB)\n",
            "Installing collected packages: pdf2image\n",
            "Successfully installed pdf2image-1.17.0\n"
          ]
        }
      ]
    },
    {
      "cell_type": "code",
      "source": [
        "!pip install PyPDF2"
      ],
      "metadata": {
        "colab": {
          "base_uri": "https://localhost:8080/"
        },
        "collapsed": true,
        "id": "OLxm09V62vLG",
        "outputId": "c69d9692-d1a7-4771-9349-3f7b46b890e9"
      },
      "execution_count": null,
      "outputs": [
        {
          "output_type": "stream",
          "name": "stdout",
          "text": [
            "Requirement already satisfied: PyPDF2 in /usr/local/lib/python3.10/dist-packages (3.0.1)\n"
          ]
        }
      ]
    },
    {
      "cell_type": "code",
      "source": [
        "from pdf2image import convert_from_path\n",
        "import os\n",
        "\n",
        "# function for extracting the data from each PDF\n",
        "def extract_data_from_eachPDF(pdf):\n",
        "  # pdf_path = \"/content/19590102.pdf\"\n",
        "  input_pdf_dir = \"/content/drive/MyDrive/data_for_extracting/input_pdfs/\"   #directory where all input pdfs are there\n",
        "  pdf_path = input_pdf_dir + pdf          # path of the pdf\n",
        "\n",
        "  image_dir = \"/content/drive/MyDrive/data_for_extracting/image\"        #Image directory where all image folders are generated for each pdf\n",
        "\n",
        "  image_dir_path = os.path.join(image_dir, f\"{pdf[:-4]}\")       #Image directory path of each pdf\n",
        "  # os.makedirs(image_dir, exist_ok=True)\n",
        "\n",
        "  if not os.path.exists(image_dir_path):\n",
        "    os.mkdir(image_dir_path)             # creating a directory if its already isn't exist\n",
        "\n",
        "  # Convert PDF to images\n",
        "  images = convert_from_path(pdf_path)\n",
        "\n",
        "  data = \"\"  # storing all the data\n",
        "\n",
        "  # Iterate over each image (page of the PDF)\n",
        "  for i, image in enumerate(images):\n",
        "      # Save the image\n",
        "      # image_path = os.path.join(image_dir, f\"/page_{i+1}.png\")\n",
        "      image_path = image_dir_path + f\"/page_{i+1}.png\"\n",
        "      image.save(image_path, \"PNG\")\n",
        "      print(f\"Saved image: {image_path}\")\n",
        "\n",
        "      # print(f\"Image {i+1} size: {image.size}\")\n",
        "      # image_path = image_dir + f\"/page_{i+1}.png\"\n",
        "\n",
        "      res = extract_data_from_eachImage(image_path)\n",
        "\n",
        "      # res = Validate_Json(res) ### use this fucntion if required\n",
        "      data += res\n",
        "\n",
        "  # creating a json file for this pdf and saving the data\n",
        "  extract_data_dir = \"/content/drive/MyDrive/data_for_extracting/output_dir\"\n",
        "  extract_file_path = os.path.join(extract_data_dir, f\"/{pdf[:-4]}.json\")\n",
        "  # output.save(extract_file_path, \"JSON\")\n",
        "\n",
        "  output_file_path = extract_data_dir + f\"/{pdf[:-4]}.json\"\n",
        "  with open(output_file_path, 'w') as file:\n",
        "    file.write(data)\n",
        "\n",
        "  print(f\"Saved JSON File: {output_file_path}\")\n",
        "  # print(data)"
      ],
      "metadata": {
        "id": "U38gqose2zg1"
      },
      "execution_count": 13,
      "outputs": []
    },
    {
      "cell_type": "code",
      "source": [
        "#function for validating the json\n",
        "def Validate_Json(data):\n",
        "\n",
        "  headers = {\n",
        "    \"Content-Type\": \"application/json\",\n",
        "    \"Authorization\": f\"Bearer {api_key}\"\n",
        "  }\n",
        "\n",
        "  payload = {\n",
        "    \"model\": \"gpt-4o-mini\",\n",
        "    \"messages\": [\n",
        "      {\n",
        "        \"role\": \"user\",\n",
        "        \"content\": [\n",
        "          {\n",
        "            \"type\": \"text\",\n",
        "            \"text\": \"convert this JSON data into validate JSON . its having bracket parenthesis error solve every error and return valid JSON data. Note: do not add any text from your side and no need of adding comment\"\n",
        "          },\n",
        "          {\n",
        "            \"type\": \"text\",\n",
        "            \"text\": data\n",
        "          }\n",
        "        ]\n",
        "      }\n",
        "    ]\n",
        "  }\n",
        "\n",
        "  response = requests.post(\"https://api.openai.com/v1/chat/completions\", headers=headers, json=payload)\n",
        "\n",
        "  # print(response.json())\n",
        "  # print(response.json()['choices'][0]['message']['content'])\n",
        "  json_data = response.json()['choices'][0]['message']['content']\n",
        "  st = 0\n",
        "  for i in range(len(json_data)):\n",
        "      if json[i] == '{':\n",
        "          st = i\n",
        "          break\n",
        "\n",
        "  end = 0\n",
        "  for i in range(len(json_data) - 1, -1, -1):\n",
        "      if json[i] == '}':\n",
        "          end = i + 1\n",
        "          break\n",
        "\n",
        "  corrected_json = json_data[st:end]\n",
        "\n",
        "  return corrected_json\n"
      ],
      "metadata": {
        "id": "Ks2TnykHFQfd"
      },
      "execution_count": null,
      "outputs": []
    },
    {
      "cell_type": "code",
      "source": [
        "from google.colab import drive\n",
        "drive.mount('/content/drive')"
      ],
      "metadata": {
        "colab": {
          "base_uri": "https://localhost:8080/"
        },
        "id": "Cjmq8dw6D2FN",
        "outputId": "50c13319-9d04-40d4-9adc-af33d7f2bfc4"
      },
      "execution_count": 1,
      "outputs": [
        {
          "output_type": "stream",
          "name": "stdout",
          "text": [
            "Mounted at /content/drive\n"
          ]
        }
      ]
    },
    {
      "cell_type": "code",
      "source": [
        "def main():\n",
        "  pdfs = os.listdir(\"/content/drive/MyDrive/data_for_extracting/input_pdfs\")\n",
        "  for i,pdf in enumerate(pdfs):\n",
        "    extract_data_from_eachPDF(pdf)\n",
        "    # print(pdf)\n",
        "\n",
        "main()"
      ],
      "metadata": {
        "id": "IVx2YF3C28hC",
        "colab": {
          "base_uri": "https://localhost:8080/"
        },
        "outputId": "4d76f024-af3c-4362-f4f9-7e30f0b7d752"
      },
      "execution_count": 12,
      "outputs": [
        {
          "output_type": "stream",
          "name": "stdout",
          "text": [
            "Saved image: /content/drive/MyDrive/data_for_extracting/image/19910102/page_1.png\n",
            "Saved image: /content/drive/MyDrive/data_for_extracting/image/19910102/page_2.png\n",
            "Saved image: /content/drive/MyDrive/data_for_extracting/image/19910102/page_3.png\n",
            "Saved image: /content/drive/MyDrive/data_for_extracting/image/19910102/page_4.png\n",
            "Saved image: /content/drive/MyDrive/data_for_extracting/image/19910102/page_5.png\n",
            "Saved image: /content/drive/MyDrive/data_for_extracting/image/19910102/page_6.png\n",
            "Saved image: /content/drive/MyDrive/data_for_extracting/image/19910102/page_7.png\n",
            "Saved image: /content/drive/MyDrive/data_for_extracting/image/19910102/page_8.png\n",
            "Saved image: /content/drive/MyDrive/data_for_extracting/image/19910102/page_9.png\n",
            "Saved image: /content/drive/MyDrive/data_for_extracting/image/19910102/page_10.png\n",
            "Saved image: /content/drive/MyDrive/data_for_extracting/image/19910102/page_11.png\n",
            "Saved image: /content/drive/MyDrive/data_for_extracting/image/19910102/page_12.png\n",
            "Saved image: /content/drive/MyDrive/data_for_extracting/image/19910102/page_13.png\n",
            "Saved image: /content/drive/MyDrive/data_for_extracting/image/19910102/page_14.png\n",
            "Saved image: /content/drive/MyDrive/data_for_extracting/image/19910102/page_15.png\n",
            "Saved image: /content/drive/MyDrive/data_for_extracting/image/19910102/page_16.png\n",
            "Saved image: /content/drive/MyDrive/data_for_extracting/image/19910102/page_17.png\n",
            "Saved image: /content/drive/MyDrive/data_for_extracting/image/19910102/page_18.png\n",
            "Saved image: /content/drive/MyDrive/data_for_extracting/image/19910102/page_19.png\n",
            "Saved image: /content/drive/MyDrive/data_for_extracting/image/19910102/page_20.png\n",
            "Saved image: /content/drive/MyDrive/data_for_extracting/image/19910102/page_21.png\n",
            "Saved image: /content/drive/MyDrive/data_for_extracting/image/19910102/page_22.png\n",
            "Saved image: /content/drive/MyDrive/data_for_extracting/image/19910102/page_23.png\n",
            "Saved image: /content/drive/MyDrive/data_for_extracting/image/19910102/page_24.png\n",
            "Saved JSON File: /content/drive/MyDrive/data_for_extracting/output_dir/19910102.json\n"
          ]
        }
      ]
    }
  ]
}